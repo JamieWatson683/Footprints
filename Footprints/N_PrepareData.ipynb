{
 "cells": [
  {
   "cell_type": "code",
   "execution_count": 2,
   "metadata": {},
   "outputs": [],
   "source": [
    "import numpy as np\n",
    "import matplotlib.pyplot as plt\n",
    "import utility\n",
    "import os\n",
    "from skimage import transform, color"
   ]
  },
  {
   "cell_type": "code",
   "execution_count": 14,
   "metadata": {},
   "outputs": [],
   "source": [
    "dataprocessor = utility.DataProcessor()\n",
    "root = \"./car splits/18-07-02-02/\"\n",
    "paths = os.listdir(root)\n",
    "paths = ['00.02.100_00.05.020',\n",
    " '00.17.520_00.19.920',\n",
    " '01.21.220_01.23.760',\n",
    " '01.24.000_01.26.880']"
   ]
  },
  {
   "cell_type": "code",
   "execution_count": 15,
   "metadata": {},
   "outputs": [
    {
     "name": "stdout",
     "output_type": "stream",
     "text": [
      "processing car number 0 of 3\n"
     ]
    },
    {
     "name": "stderr",
     "output_type": "stream",
     "text": [
      "d:\\users\\sam\\anaconda3\\envs\\footprints\\lib\\site-packages\\skimage\\transform\\_warps.py:84: UserWarning: The default mode, 'constant', will be changed to 'reflect' in skimage 0.15.\n",
      "  warn(\"The default mode, 'constant', will be changed to 'reflect' in \"\n"
     ]
    },
    {
     "name": "stdout",
     "output_type": "stream",
     "text": [
      "processing car number 1 of 3\n",
      "processing car number 2 of 3\n",
      "processing car number 3 of 3\n"
     ]
    }
   ],
   "source": [
    "count = 0\n",
    "for path in paths:\n",
    "    print(\"processing car number {} of {}\".format(count, len(paths)-1)) \n",
    "    dataprocessor.load_raw_data(root+path+\"/\")\n",
    "    dataprocessor.prepare_data(output_shape=(128,256))\n",
    "    dataprocessor.save_data(path=\"./data/validation_data/\")\n",
    "#     if path == '6.27.020_6.29.200' or path == '11.19.360_11.21.840' or path == '10.17.260_10.20.100':\n",
    "#         dataprocessor.save_data(path=\"./data/validation_data/\")\n",
    "#         print(\"Saved as validation\")\n",
    "#     else:\n",
    "#         dataprocessor.save_data(path=\"./data/training_data/\")\n",
    "    count += 1"
   ]
  },
  {
   "cell_type": "code",
   "execution_count": 8,
   "metadata": {},
   "outputs": [
    {
     "data": {
      "text/plain": [
       "(9, 5, 128, 256)"
      ]
     },
     "execution_count": 8,
     "metadata": {},
     "output_type": "execute_result"
    }
   ],
   "source": [
    "dataprocessor.val_data.shape"
   ]
  },
  {
   "cell_type": "code",
   "execution_count": null,
   "metadata": {},
   "outputs": [],
   "source": []
  },
  {
   "cell_type": "code",
   "execution_count": null,
   "metadata": {},
   "outputs": [],
   "source": []
  },
  {
   "cell_type": "code",
   "execution_count": null,
   "metadata": {},
   "outputs": [],
   "source": []
  },
  {
   "cell_type": "code",
   "execution_count": null,
   "metadata": {},
   "outputs": [],
   "source": []
  },
  {
   "cell_type": "code",
   "execution_count": 102,
   "metadata": {},
   "outputs": [],
   "source": []
  },
  {
   "cell_type": "code",
   "execution_count": null,
   "metadata": {},
   "outputs": [],
   "source": []
  },
  {
   "cell_type": "code",
   "execution_count": null,
   "metadata": {},
   "outputs": [],
   "source": []
  },
  {
   "cell_type": "code",
   "execution_count": null,
   "metadata": {},
   "outputs": [],
   "source": []
  },
  {
   "cell_type": "code",
   "execution_count": null,
   "metadata": {},
   "outputs": [],
   "source": []
  }
 ],
 "metadata": {
  "kernelspec": {
   "display_name": "Python 3",
   "language": "python",
   "name": "python3"
  },
  "language_info": {
   "codemirror_mode": {
    "name": "ipython",
    "version": 3
   },
   "file_extension": ".py",
   "mimetype": "text/x-python",
   "name": "python",
   "nbconvert_exporter": "python",
   "pygments_lexer": "ipython3",
   "version": "3.6.5"
  }
 },
 "nbformat": 4,
 "nbformat_minor": 2
}
