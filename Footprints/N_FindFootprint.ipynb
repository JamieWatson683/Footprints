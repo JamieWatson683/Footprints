{
 "cells": [
  {
   "cell_type": "code",
   "execution_count": 1,
   "metadata": {},
   "outputs": [],
   "source": [
    "import numpy as np\n",
    "import matplotlib.pyplot as plt\n",
    "import preprocess\n",
    "import cv2\n",
    "from skimage import io\n",
    "import os"
   ]
  },
  {
   "cell_type": "code",
   "execution_count": 41,
   "metadata": {},
   "outputs": [],
   "source": [
    "root = \"./car splits/\"\n",
    "paths = ['11.35.880_11.37.960']"
   ]
  },
  {
   "cell_type": "code",
   "execution_count": 42,
   "metadata": {},
   "outputs": [],
   "source": [
    "#Right\n",
    "sky_points = np.array([[104,280],[106,292],[107,340],[108,316],[112,354],[113,365],[73,308],[83,337],[42,316],[43,328],[46,364],[47,376],\n",
    "                      [83,66],[23,71],[85,85],[86,97],[24,83],[25,96],[88,109],[89,121],[26,109],[27,123],[90,132],[91,146],[28,136],[29,150]])\n",
    "ground_points = np.array([[159,450],[157,475],[156,463],[154,469],[149,484],[148,488],[151,413],[148,437],[146,375],[145,383],[142,401],[141,407],\n",
    "                         [257,96],[202,24],[236,174],[224,214],[196,61],[190,99],[215,245],[208,274],[185,130],[181,162],[201,295],[194,323],[176,187],[172,212]])\n",
    "R_homog, _ = cv2.findHomography(sky_points, ground_points, method=0)\n",
    "\n",
    "#Left\n",
    "sky_points = np.array([[83,66],[23,71],[85,85],[86,97],[24,83],[25,96],[88,109],[89,121],[26,109],[27,123],[90,132],[91,146],[28,136],[29,150]])\n",
    "ground_points = np.array([[257,96],[202,24],[236,174],[224,214],[196,61],[190,99],[215,245],[208,274],[185,130],[181,162],[201,295],[194,323],[176,187],[172,212]])\n",
    "L_homog, _ = cv2.findHomography(sky_points, ground_points, method=0)\n",
    "\n",
    "\n",
    "L_homog = R_homog"
   ]
  },
  {
   "cell_type": "code",
   "execution_count": null,
   "metadata": {},
   "outputs": [],
   "source": []
  },
  {
   "cell_type": "code",
   "execution_count": 43,
   "metadata": {},
   "outputs": [
    {
     "name": "stdout",
     "output_type": "stream",
     "text": [
      "Current path 11.35.880_11.37.960\n",
      "Extracting footprints...\n"
     ]
    },
    {
     "name": "stderr",
     "output_type": "stream",
     "text": [
      "d:\\users\\sam\\anaconda3\\envs\\footprints\\lib\\site-packages\\skimage\\util\\dtype.py:122: UserWarning: Possible precision loss when converting from float64 to uint8\n",
      "  .format(dtypeobj_in, dtypeobj_out))\n"
     ]
    },
    {
     "name": "stdout",
     "output_type": "stream",
     "text": [
      "Generating ground footprints...\n",
      "Done\n"
     ]
    }
   ],
   "source": [
    "for path in paths:\n",
    "    print(\"Current path {}\".format(path))\n",
    "    print(\"Extracting footprints...\")\n",
    "    preprocess.extract_all_footprints(root+path+\"/\")\n",
    "    print(\"Generating ground footprints...\")\n",
    "    preprocess.place_all_footprints(root+path+\"/\", L_homog, R_homog, column_homog_cutoff=384)\n",
    "    print(\"Done\")"
   ]
  },
  {
   "cell_type": "code",
   "execution_count": null,
   "metadata": {},
   "outputs": [],
   "source": []
  },
  {
   "cell_type": "code",
   "execution_count": 63,
   "metadata": {},
   "outputs": [
    {
     "name": "stderr",
     "output_type": "stream",
     "text": [
      "D:\\Users\\Sam\\Anaconda3\\envs\\ML\\lib\\site-packages\\skimage\\util\\dtype.py:122: UserWarning: Possible precision loss when converting from float64 to uint8\n",
      "  .format(dtypeobj_in, dtypeobj_out))\n"
     ]
    }
   ],
   "source": [
    "preprocess.extract_all_footprints(PATH)"
   ]
  },
  {
   "cell_type": "code",
   "execution_count": null,
   "metadata": {},
   "outputs": [],
   "source": []
  },
  {
   "cell_type": "code",
   "execution_count": 66,
   "metadata": {},
   "outputs": [],
   "source": []
  },
  {
   "cell_type": "code",
   "execution_count": 67,
   "metadata": {},
   "outputs": [
    {
     "name": "stderr",
     "output_type": "stream",
     "text": [
      "D:\\Users\\Sam\\Anaconda3\\envs\\ML\\lib\\site-packages\\skimage\\util\\dtype.py:122: UserWarning: Possible precision loss when converting from float64 to uint8\n",
      "  .format(dtypeobj_in, dtypeobj_out))\n"
     ]
    }
   ],
   "source": [
    "preprocess.place_all_footprints(PATH, L_homog, R_homog, column_homog_cutoff=384)"
   ]
  },
  {
   "cell_type": "code",
   "execution_count": 13,
   "metadata": {},
   "outputs": [
    {
     "name": "stderr",
     "output_type": "stream",
     "text": [
      "d:\\users\\sam\\anaconda3\\envs\\footprints\\lib\\site-packages\\skimage\\util\\dtype.py:122: UserWarning: Possible precision loss when converting from float64 to uint8\n",
      "  .format(dtypeobj_in, dtypeobj_out))\n"
     ]
    }
   ],
   "source": []
  },
  {
   "cell_type": "code",
   "execution_count": 3,
   "metadata": {},
   "outputs": [],
   "source": [
    "paths = ['4.56.300_4.58.120',\n",
    " '5.20.780_5.22.700',\n",
    " '6.04.380_6.06.580',\n",
    " '6.23.780_6.26.480',\n",
    " '6.27.020_6.29.200',\n",
    " '6.29.800_6.32.080']"
   ]
  },
  {
   "cell_type": "code",
   "execution_count": 6,
   "metadata": {},
   "outputs": [
    {
     "name": "stderr",
     "output_type": "stream",
     "text": [
      "d:\\users\\sam\\anaconda3\\envs\\footprints\\lib\\site-packages\\skimage\\util\\dtype.py:122: UserWarning: Possible precision loss when converting from float64 to uint8\n",
      "  .format(dtypeobj_in, dtypeobj_out))\n"
     ]
    }
   ],
   "source": [
    "root = \"./car splits/\"\n",
    "for path in paths:\n",
    "    preprocess.save_ground_mask_overlays(root+path+\"/\")"
   ]
  },
  {
   "cell_type": "code",
   "execution_count": null,
   "metadata": {},
   "outputs": [],
   "source": []
  }
 ],
 "metadata": {
  "kernelspec": {
   "display_name": "Python 3",
   "language": "python",
   "name": "python3"
  },
  "language_info": {
   "codemirror_mode": {
    "name": "ipython",
    "version": 3
   },
   "file_extension": ".py",
   "mimetype": "text/x-python",
   "name": "python",
   "nbconvert_exporter": "python",
   "pygments_lexer": "ipython3",
   "version": "3.6.5"
  }
 },
 "nbformat": 4,
 "nbformat_minor": 2
}
